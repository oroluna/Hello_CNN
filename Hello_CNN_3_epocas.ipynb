{
 "cells": [
  {
   "cell_type": "markdown",
   "id": "be7bc76b",
   "metadata": {},
   "source": [
    "A partir de los datos proporcionas en datos csv de train y test de Fashion-MNIST.\n",
    "\n",
    "https://www.kaggle.com/zalando-research/fashionmnist\n",
    "    \n",
    "    \n",
    "\n",
    "    Esta actividad deberás hacerla en un Jupyter-Notebok de Google-Colab normalito, no requieres GPU ni los recursos del CADS. Sin embargo, lo puedes hacer ahí si así lo deseas.\n",
    "    Puedes usar PyTorch o Keras, con el que desees.\n",
    "    Descargar los datos csv de train y test de Fashion-MNIST: https://www.kaggle.com/zalando-research/fashionmnist\n",
    "    El conjunto de datos test (que son 10 mil) divídelo en 50% para validación y 50% para test.\n",
    "    "
   ]
  },
  {
   "cell_type": "code",
   "execution_count": 53,
   "id": "547ba844",
   "metadata": {},
   "outputs": [],
   "source": [
    "import numpy as np\n",
    "import pandas as pd\n",
    "import matplotlib.pyplot as plt"
   ]
  },
  {
   "cell_type": "code",
   "execution_count": 54,
   "id": "2144366d",
   "metadata": {},
   "outputs": [],
   "source": [
    "import torch\n",
    "import torch.nn as nn\n",
    "from torch.autograd import Variable\n",
    "\n",
    "import torchvision\n",
    "import torchvision.transforms as transforms\n",
    "from torch.utils.data import Dataset, DataLoader\n",
    "from sklearn.metrics import confusion_matrix\n"
   ]
  },
  {
   "cell_type": "markdown",
   "id": "f482f0f8",
   "metadata": {},
   "source": [
    "### Carga de los datos "
   ]
  },
  {
   "cell_type": "code",
   "execution_count": 55,
   "id": "be0ed936",
   "metadata": {},
   "outputs": [],
   "source": [
    "train_csv = pd.read_csv(\"/home/cads/Documentos/making/Hello_CNN/data_csv/fashion-mnist_validation.csv\")\n",
    "test_csv = pd.read_csv(\"/home/cads/Documentos/making/Hello_CNN/data_csv/fashion-mnist_test.csv\")"
   ]
  },
  {
   "cell_type": "markdown",
   "id": "dce662b0",
   "metadata": {},
   "source": [
    "### Clase para construir un dataset usando clase de datos de Pytorch \n",
    "\"\"\"User defined class to build a datset using Pytorch class Dataset.\"\"\""
   ]
  },
  {
   "cell_type": "code",
   "execution_count": 56,
   "id": "416ca5e6",
   "metadata": {},
   "outputs": [],
   "source": [
    "class FashionDataset(Dataset):\n",
    "    \n",
    "    def __init__(self, data, transform = None):\n",
    "        \"\"\"Method to initilaize variables.\"\"\" \n",
    "        self.fashion_MNIST = list(data.values)\n",
    "        self.transform = transform\n",
    "        \n",
    "        label = []\n",
    "        image = []\n",
    "        \n",
    "        for i in self.fashion_MNIST:\n",
    "             # first column is of labels.\n",
    "            label.append(i[0])\n",
    "            image.append(i[1:])\n",
    "        self.labels = np.asarray(label)\n",
    "        # Dimension of Images = 28 * 28 * 1. where height = width = 28 and color_channels = 1.\n",
    "        self.images = np.asarray(image).reshape(-1, 28, 28, 1).astype('float32')\n",
    "\n",
    "    def __getitem__(self, index):\n",
    "        label = self.labels[index]\n",
    "        image = self.images[index]\n",
    "        \n",
    "        if self.transform is not None:\n",
    "            image = self.transform(image)\n",
    "\n",
    "        return image, label\n",
    "\n",
    "    def __len__(self):\n",
    "        return len(self.images)\n"
   ]
  },
  {
   "cell_type": "markdown",
   "id": "99222bd9",
   "metadata": {},
   "source": [
    "### Transform data into Tensor that has a range from 0 to 1"
   ]
  },
  {
   "cell_type": "code",
   "execution_count": 57,
   "id": "22463cff",
   "metadata": {},
   "outputs": [],
   "source": [
    "\n",
    "train_set = FashionDataset(train_csv, transform=transforms.Compose([transforms.ToTensor()]))\n",
    "test_set = FashionDataset(test_csv, transform=transforms.Compose([transforms.ToTensor()]))\n",
    "\n",
    "train_loader = DataLoader(train_set, batch_size=100)\n",
    "test_loader = DataLoader(train_set, batch_size=100)"
   ]
  },
  {
   "cell_type": "markdown",
   "id": "626dc4b0",
   "metadata": {},
   "source": [
    "###  Using FashionMNIST class from torchvision module."
   ]
  },
  {
   "cell_type": "code",
   "execution_count": 58,
   "id": "3cd97d0f",
   "metadata": {},
   "outputs": [
    {
     "data": {
      "text/plain": [
       "5000"
      ]
     },
     "execution_count": 58,
     "metadata": {},
     "output_type": "execute_result"
    }
   ],
   "source": [
    "len(train_set)"
   ]
  },
  {
   "cell_type": "code",
   "execution_count": 59,
   "id": "88b45d64",
   "metadata": {},
   "outputs": [
    {
     "data": {
      "text/plain": [
       "5000"
      ]
     },
     "execution_count": 59,
     "metadata": {},
     "output_type": "execute_result"
    }
   ],
   "source": [
    "len(test_set)"
   ]
  },
  {
   "cell_type": "code",
   "execution_count": 60,
   "id": "798d4402",
   "metadata": {},
   "outputs": [],
   "source": [
    "train_set = torchvision.datasets.FashionMNIST(\"/home/cads/Documentos/making/Hello_CNN/data\", download=False, transform=\n",
    "                                                transforms.Compose([transforms.ToTensor()]))\n",
    "#test_set = torchvision.datasets.FashionMNIST(\"/home/cads/Documentos/making/Hello_CNN/data\", download=False, train=False, transform=\n",
    "#                                               transforms.Compose([transforms.ToTensor()]))  "
   ]
  },
  {
   "cell_type": "code",
   "execution_count": 61,
   "id": "7aedffca",
   "metadata": {},
   "outputs": [],
   "source": [
    "train_loader = torch.utils.data.DataLoader(train_set, \n",
    "                                           batch_size=100)\n",
    "test_loader = torch.utils.data.DataLoader(test_set,\n",
    "                                          batch_size=100)"
   ]
  },
  {
   "cell_type": "code",
   "execution_count": 62,
   "id": "53e24b87",
   "metadata": {},
   "outputs": [
    {
     "name": "stdout",
     "output_type": "stream",
     "text": [
      "Tamaño entrenamiento:  60000\n",
      "Tamaño prueba:  5000\n"
     ]
    }
   ],
   "source": [
    "print('Tamaño entrenamiento: ',len(train_set))\n",
    "print('Tamaño prueba: ',len(test_set))"
   ]
  },
  {
   "cell_type": "code",
   "execution_count": 63,
   "id": "b5433b24",
   "metadata": {},
   "outputs": [],
   "source": [
    "\n",
    "\n",
    "def output_label(label):\n",
    "    output_mapping = {\n",
    "                 0: \"T-shirt/Top\",\n",
    "                 1: \"Trouser\",\n",
    "                 2: \"Pullover\",\n",
    "                 3: \"Dress\",\n",
    "                 4: \"Coat\", \n",
    "                 5: \"Sandal\", \n",
    "                 6: \"Shirt\",\n",
    "                 7: \"Sneaker\",\n",
    "                 8: \"Bag\",\n",
    "                 9: \"Ankle Boot\"\n",
    "                 }\n",
    "    input = (label.item() if type(label) == torch.Tensor else label)\n",
    "    return output_mapping[input]\n",
    "\n"
   ]
  },
  {
   "cell_type": "code",
   "execution_count": 64,
   "id": "97559e87",
   "metadata": {},
   "outputs": [
    {
     "data": {
      "text/plain": [
       "torch.Size([100, 1, 28, 28])"
      ]
     },
     "execution_count": 64,
     "metadata": {},
     "output_type": "execute_result"
    }
   ],
   "source": [
    "a = next(iter(train_loader))\n",
    "a[0].size()\n"
   ]
  },
  {
   "cell_type": "markdown",
   "id": "c348b496",
   "metadata": {},
   "source": [
    "Cantidad de muestra por dataset"
   ]
  },
  {
   "cell_type": "code",
   "execution_count": 65,
   "id": "30466845",
   "metadata": {},
   "outputs": [
    {
     "data": {
      "text/plain": [
       "60000"
      ]
     },
     "execution_count": 65,
     "metadata": {},
     "output_type": "execute_result"
    }
   ],
   "source": [
    "len(train_set)"
   ]
  },
  {
   "cell_type": "code",
   "execution_count": 66,
   "id": "b43d9f1b",
   "metadata": {},
   "outputs": [
    {
     "data": {
      "text/plain": [
       "5000"
      ]
     },
     "execution_count": 66,
     "metadata": {},
     "output_type": "execute_result"
    }
   ],
   "source": [
    "len(test_set)"
   ]
  },
  {
   "cell_type": "markdown",
   "id": "91076da1",
   "metadata": {},
   "source": [
    "### Se muestra un ejemplo de la coleccion cargada"
   ]
  },
  {
   "cell_type": "code",
   "execution_count": 67,
   "id": "5319fe52",
   "metadata": {},
   "outputs": [
    {
     "name": "stdout",
     "output_type": "stream",
     "text": [
      "9\n"
     ]
    },
    {
     "data": {
      "image/png": "[encoded data removed]",
      "text/plain": [
       "<Figure size 432x288 with 1 Axes>"
      ]
     },
     "metadata": {
      "needs_background": "light"
     },
     "output_type": "display_data"
    }
   ],
   "source": [
    "image, label = next(iter(train_set))\n",
    "plt.imshow(image.squeeze(), cmap=\"gray\")\n",
    "print(label)\n"
   ]
  },
  {
   "cell_type": "code",
   "execution_count": 68,
   "id": "8505d594",
   "metadata": {},
   "outputs": [
    {
     "name": "stdout",
     "output_type": "stream",
     "text": [
      "<class 'torch.Tensor'> <class 'torch.Tensor'>\n",
      "torch.Size([10, 1, 28, 28]) torch.Size([10])\n"
     ]
    }
   ],
   "source": [
    "demo_loader = torch.utils.data.DataLoader(train_set, batch_size=10)\n",
    "\n",
    "batch = next(iter(demo_loader))\n",
    "images, labels = batch\n",
    "print(type(images), type(labels))\n",
    "print(images.shape, labels.shape)"
   ]
  },
  {
   "cell_type": "code",
   "execution_count": 69,
   "id": "ab082fbe",
   "metadata": {},
   "outputs": [
    {
     "name": "stdout",
     "output_type": "stream",
     "text": [
      "labels:  Ankle Boot, T-shirt/Top, T-shirt/Top, Dress, T-shirt/Top, Pullover, Sneaker, Pullover, Sandal, Sandal, "
     ]
    },
    {
     "data": {
      "image/png": "[encoded data removed]",
      "text/plain": [
       "<Figure size 1080x1440 with 1 Axes>"
      ]
     },
     "metadata": {
      "needs_background": "light"
     },
     "output_type": "display_data"
    }
   ],
   "source": [
    "\n",
    "\n",
    "grid = torchvision.utils.make_grid(images, nrow=10)\n",
    "\n",
    "plt.figure(figsize=(15, 20))\n",
    "plt.imshow(np.transpose(grid, (1, 2, 0)))\n",
    "print(\"labels: \", end=\" \")\n",
    "for i, label in enumerate(labels):\n",
    "    print(output_label(label), end=\", \")\n",
    "\n"
   ]
  },
  {
   "cell_type": "markdown",
   "id": "ab404a57",
   "metadata": {},
   "source": [
    "### Diseño del modelo CNN\n",
    "\n",
    "Diseño una red CNN con la siguiente arquitectura:  \n",
    "        Una capa CNN con 6 feature maps con tamaño de kernels 5x5, strides=1 y funciones Relu.  \n",
    "        Capa Maxpooling 2x2 \n",
    "        \n",
    "Conv2d(1, 32, kernel_size=(5, 5), stride=(1, 1), padding=(1, 1))\n",
    "    (1): BatchNorm2d(32, eps=1e-05, momentum=0.1, affine=True, track_running_stats=True)\n",
    "    (2): ReLU()\n",
    "    (3): MaxPool2d(kernel_size=2, stride=1, padding=0, dilation=1, ceil_mode=False)\n",
    "  )        \n",
    "        \n",
    "        \n",
    "        \n",
    "        Otra capa CNN con 16 feature maps con tamaño de kernels   5x5, strides=1 y funciones Relu.      \n",
    "        Capa Fully Connected (o densa) de 120 neuronas    \n",
    "        Salida softmax de 10 clases   \n",
    "        \n",
    "        \n",
    "        \n",
    "        \n",
    "        Puedes buscar el mejor optimizador que funcione: SGD, Adam, etc.  \n",
    "        \n",
    "        Métrica Accuracy y función de error alguna de las categóricas de crossentropy. Puedes variar todos los demás parámetros e hiperparámetros como desees.\n",
    "        "
   ]
  },
  {
   "cell_type": "code",
   "execution_count": 83,
   "id": "6b393473",
   "metadata": {},
   "outputs": [],
   "source": [
    "class Hello_CNN(nn.Module):\n",
    "    \n",
    "    def __init__(self):\n",
    "        super(Hello_CNN, self).__init__()\n",
    "        \n",
    "        self.layer1 = nn.Sequential(\n",
    "            nn.Conv2d(in_channels=1, out_channels=32, kernel_size=3, padding=1),\n",
    "            nn.BatchNorm2d(32),\n",
    "            nn.ReLU(),\n",
    "            nn.MaxPool2d(kernel_size=2, stride=2)\n",
    "        )\n",
    "        \n",
    "        self.layer2 = nn.Sequential(\n",
    "            nn.Conv2d(in_channels=32, out_channels=64, kernel_size=3),\n",
    "            nn.BatchNorm2d(64),\n",
    "            nn.ReLU(),\n",
    "            nn.MaxPool2d(2)\n",
    "        )\n",
    "        \n",
    "        self.fc1 = nn.Linear(in_features=64*6*6, out_features=600)\n",
    "        self.drop = nn.Dropout2d(0.25)\n",
    "        self.fc2 = nn.Linear(in_features=600, out_features=120)\n",
    "        self.fc3 = nn.Linear(in_features=120, out_features=10)\n",
    "        \n",
    "    def forward(self, x):\n",
    "        out = self.layer1(x)\n",
    "        out = self.layer2(out)\n",
    "        out = out.view(out.size(0), -1)\n",
    "        out = self.fc1(out)\n",
    "        out = self.drop(out)\n",
    "        out = self.fc2(out)\n",
    "        out = self.fc3(out)\n",
    "        \n",
    "        return out"
   ]
  },
  {
   "cell_type": "code",
   "execution_count": 84,
   "id": "91ac1cd4",
   "metadata": {},
   "outputs": [],
   "source": [
    "### Modelo de CNN"
   ]
  },
  {
   "cell_type": "code",
   "execution_count": 85,
   "id": "e03cf650",
   "metadata": {},
   "outputs": [
    {
     "name": "stdout",
     "output_type": "stream",
     "text": [
      "Hello_CNN(\n",
      "  (layer1): Sequential(\n",
      "    (0): Conv2d(1, 32, kernel_size=(3, 3), stride=(1, 1), padding=(1, 1))\n",
      "    (1): BatchNorm2d(32, eps=1e-05, momentum=0.1, affine=True, track_running_stats=True)\n",
      "    (2): ReLU()\n",
      "    (3): MaxPool2d(kernel_size=2, stride=2, padding=0, dilation=1, ceil_mode=False)\n",
      "  )\n",
      "  (layer2): Sequential(\n",
      "    (0): Conv2d(32, 64, kernel_size=(3, 3), stride=(1, 1))\n",
      "    (1): BatchNorm2d(64, eps=1e-05, momentum=0.1, affine=True, track_running_stats=True)\n",
      "    (2): ReLU()\n",
      "    (3): MaxPool2d(kernel_size=2, stride=2, padding=0, dilation=1, ceil_mode=False)\n",
      "  )\n",
      "  (fc1): Linear(in_features=2304, out_features=600, bias=True)\n",
      "  (drop): Dropout2d(p=0.25, inplace=False)\n",
      "  (fc2): Linear(in_features=600, out_features=120, bias=True)\n",
      "  (fc3): Linear(in_features=120, out_features=10, bias=True)\n",
      ")\n"
     ]
    }
   ],
   "source": [
    "model = Hello_CNN()\n",
    "model.to(\"cpu\")\n",
    "\n",
    "error = nn.CrossEntropyLoss()\n",
    "\n",
    "learning_rate = 0.001\n",
    "optimizer = torch.optim.Adam(model.parameters(), lr=learning_rate)\n",
    "print(model)"
   ]
  },
  {
   "cell_type": "markdown",
   "id": "5d5068c9",
   "metadata": {},
   "source": [
    "### Entrenado la red y verificándola con el dataset de prueba\n",
    "\n",
    "Realiza el entrenamiento del modelo con los datos de train (60 mil) y de validación (5 mil).\n",
    "        Realiza una 30 épocas con tamaño de batch=32 o 16 o la que mejor te funcione.\n",
    "        Obtén al final el accuracy del conjunto de prueba (test, 5 mil) y su matriz de confusión."
   ]
  },
  {
   "cell_type": "code",
   "execution_count": 86,
   "id": "7f48ca26",
   "metadata": {},
   "outputs": [
    {
     "name": "stdout",
     "output_type": "stream",
     "text": [
      "Tamaño entrenamiento:  60000\n",
      "Tamaño prueba:  5000\n"
     ]
    }
   ],
   "source": [
    "print('Tamaño entrenamiento: ',len(train_set))\n",
    "print('Tamaño prueba: ',len(test_set))"
   ]
  },
  {
   "cell_type": "code",
   "execution_count": null,
   "id": "a64c3c91",
   "metadata": {},
   "outputs": [
    {
     "name": "stdout",
     "output_type": "stream",
     "text": [
      "Epoca  0\n",
      "Iteration: 500, Loss: 0.2756345272064209, Accuracy: 91.87999725341797%\n",
      "Epoca  1\n",
      "Iteration: 1000, Loss: 0.2940545976161957, Accuracy: 92.22000122070312%\n",
      "Epoca  2\n",
      "Iteration: 1500, Loss: 0.1440633088350296, Accuracy: 92.66000366210938%\n",
      "Epoca  3\n",
      "Iteration: 2000, Loss: 0.24841512739658356, Accuracy: 93.27999877929688%\n"
     ]
    }
   ],
   "source": [
    "num_epochs = 10\n",
    "count = 0\n",
    "# Lists for visualization of loss and accuracy \n",
    "loss_list = []\n",
    "iteration_list = []\n",
    "accuracy_list = []\n",
    "\n",
    "# Lists for knowing classwise accuracy\n",
    "predictions_list = []\n",
    "labels_list = []\n",
    "device = torch.device(\"cpu\")\n",
    "\n",
    "for epoch in range(num_epochs):\n",
    "    print('Epoca ',epoch)\n",
    "    for images, labels in train_loader:\n",
    "        #print('Contador: ', count)\n",
    "        # Transfering images and labels to GPU if available\n",
    "        images, labels = images.to(device), labels.to(device)\n",
    "    \n",
    "        train = Variable(images.view(100, 1, 28, 28))\n",
    "        labels = Variable(labels)\n",
    "        \n",
    "        # Forward pass \n",
    "        outputs = model(train)\n",
    "        loss = error(outputs, labels)\n",
    "        \n",
    "        # Initializing a gradient as 0 so there is no mixing of gradient among the batches\n",
    "        optimizer.zero_grad()\n",
    "        \n",
    "        #Propagating the error backward\n",
    "        loss.backward()\n",
    "        \n",
    "        # Optimizing the parameters\n",
    "        optimizer.step()\n",
    "    \n",
    "        count += 1\n",
    "    \n",
    "    # Testing the model\n",
    "    \n",
    "        if not (count % 50):    # It's same as \"if count % 50 == 0\"\n",
    "            total = 0\n",
    "            correct = 0\n",
    "        \n",
    "            for images, labels in test_loader:\n",
    "                images, labels = images.to(device), labels.to(device)\n",
    "                labels_list.append(labels)\n",
    "            \n",
    "                test = Variable(images.view(100, 1, 28, 28))\n",
    "            \n",
    "                outputs = model(test)\n",
    "            \n",
    "                predictions = torch.max(outputs, 1)[1].to(device)\n",
    "                predictions_list.append(predictions)\n",
    "                correct += (predictions == labels).sum()\n",
    "            \n",
    "                total += len(labels)\n",
    "            \n",
    "            accuracy = correct * 100 / total\n",
    "            loss_list.append(loss.data)\n",
    "            iteration_list.append(count)\n",
    "            accuracy_list.append(accuracy)\n",
    "        \n",
    "        if not (count % 500):\n",
    "            print(\"Iteration: {}, Loss: {}, Accuracy: {}%\".format(count, loss.data, accuracy))\n"
   ]
  },
  {
   "cell_type": "markdown",
   "id": "285bca89",
   "metadata": {},
   "source": [
    "### Visualizacion de perdida y exactitud"
   ]
  },
  {
   "cell_type": "markdown",
   "id": "4419940f",
   "metadata": {},
   "source": [
    "Grafica de iteraciones VS perdida"
   ]
  },
  {
   "cell_type": "code",
   "execution_count": 88,
   "id": "f21abe07",
   "metadata": {},
   "outputs": [
    {
     "data": {
      "image/png": "[encoded data removed]",
      "text/plain": [
       "<Figure size 432x288 with 1 Axes>"
      ]
     },
     "metadata": {
      "needs_background": "light"
     },
     "output_type": "display_data"
    }
   ],
   "source": [
    "plt.plot(iteration_list, loss_list)\n",
    "plt.xlabel(\"No. of Iteration\")\n",
    "plt.ylabel(\"Loss\")\n",
    "plt.title(\"Iterations vs Loss\")\n",
    "plt.show()\n"
   ]
  },
  {
   "cell_type": "markdown",
   "id": "f7a9db58",
   "metadata": {},
   "source": [
    "Grafica de iteraciones VS exactitud"
   ]
  },
  {
   "cell_type": "code",
   "execution_count": 89,
   "id": "d154f62f",
   "metadata": {},
   "outputs": [
    {
     "data": {
      "image/png": "[encoded data removed]",
      "text/plain": [
       "<Figure size 432x288 with 1 Axes>"
      ]
     },
     "metadata": {
      "needs_background": "light"
     },
     "output_type": "display_data"
    }
   ],
   "source": [
    "plt.plot(iteration_list, accuracy_list)\n",
    "plt.xlabel(\"No. of Iteration\")\n",
    "plt.ylabel(\"Accuracy\")\n",
    "plt.title(\"Iterations vs Accuracy\")\n",
    "plt.show()"
   ]
  },
  {
   "cell_type": "markdown",
   "id": "a2eb2f7c",
   "metadata": {},
   "source": [
    "### Matriz de confusion "
   ]
  },
  {
   "cell_type": "code",
   "execution_count": 90,
   "id": "51ae7ee4",
   "metadata": {},
   "outputs": [],
   "source": [
    "from itertools import chain \n",
    "\n",
    "predictions_l = [predictions_list[i].tolist() for i in range(len(predictions_list))]\n",
    "labels_l = [labels_list[i].tolist() for i in range(len(labels_list))]\n",
    "predictions_l = list(chain.from_iterable(predictions_l))\n",
    "labels_l = list(chain.from_iterable(labels_l))\n"
   ]
  },
  {
   "cell_type": "code",
   "execution_count": 91,
   "id": "fda4a141",
   "metadata": {},
   "outputs": [
    {
     "name": "stdout",
     "output_type": "stream",
     "text": [
      "Classification report for CNN :\n",
      "              precision    recall  f1-score   support\n",
      "\n",
      "           0       0.83      0.85      0.84     17928\n",
      "           1       0.97      0.99      0.98     18360\n",
      "           2       0.86      0.83      0.85     18360\n",
      "           3       0.89      0.91      0.90     17748\n",
      "           4       0.83      0.83      0.83     17784\n",
      "           5       0.97      0.96      0.96     18360\n",
      "           6       0.72      0.69      0.70     17316\n",
      "           7       0.94      0.93      0.93     19044\n",
      "           8       0.96      0.98      0.97     17712\n",
      "           9       0.94      0.96      0.95     17388\n",
      "\n",
      "    accuracy                           0.89    180000\n",
      "   macro avg       0.89      0.89      0.89    180000\n",
      "weighted avg       0.89      0.89      0.89    180000\n",
      "\n",
      "\n"
     ]
    }
   ],
   "source": [
    "import sklearn.metrics as metrics\n",
    "\n",
    "confusion_matrix(labels_l, predictions_l)\n",
    "print(\"Classification report for CNN :\\n%s\\n\"\n",
    "      % (metrics.classification_report(labels_l, predictions_l)))"
   ]
  },
  {
   "cell_type": "code",
   "execution_count": null,
   "id": "0b415479",
   "metadata": {},
   "outputs": [],
   "source": []
  }
 ],
 "metadata": {
  "kernelspec": {
   "display_name": "Python 3 (ipykernel)",
   "language": "python",
   "name": "python3"
  },
  "language_info": {
   "codemirror_mode": {
    "name": "ipython",
    "version": 3
   },
   "file_extension": ".py",
   "mimetype": "text/x-python",
   "name": "python",
   "nbconvert_exporter": "python",
   "pygments_lexer": "ipython3",
   "version": "3.9.7"
  }
 },
 "nbformat": 4,
 "nbformat_minor": 5
}
