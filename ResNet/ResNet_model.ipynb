{
 "cells": [
  {
   "cell_type": "code",
   "execution_count": 1,
   "id": "43010263-af6d-451d-a67f-43918fb997ce",
   "metadata": {},
   "outputs": [],
   "source": [
    "#!pip install torchsummary "
   ]
  },
  {
   "cell_type": "code",
   "execution_count": 2,
   "id": "8a712563-aee7-41a6-af48-1fc03a10e743",
   "metadata": {},
   "outputs": [],
   "source": [
    "# Revisar este video para las consideraciones de si guardas en CPU o GPU\n",
    "#https://www.youtube.com/watch?v=9L9jEOwRrCg"
   ]
  },
  {
   "cell_type": "code",
   "execution_count": 3,
   "id": "ec984c97-0209-4baa-b010-c6443b11b0ba",
   "metadata": {},
   "outputs": [],
   "source": [
    "\n",
    "\n",
    "import torch\n",
    "import torch.nn as nn\n",
    "import torchvision\n",
    "import torchvision.transforms as transforms\n",
    "import torch.nn.functional as F\n",
    "from torchsummary import summary"
   ]
  },
  {
   "cell_type": "code",
   "execution_count": 4,
   "id": "481378c9-584d-426b-b70f-278170b05744",
   "metadata": {},
   "outputs": [
    {
     "name": "stdout",
     "output_type": "stream",
     "text": [
      "Files already downloaded and verified\n"
     ]
    }
   ],
   "source": [
    "# Device configuration\n",
    "device = torch.device('cuda' if torch.cuda.is_available() else 'cpu')\n",
    "\n",
    "# Hyper-parameters\n",
    "##num_epochs = 25\n",
    "num_epochs = 3\n",
    "batch_size = 100\n",
    "learning_rate = 0.001\n",
    "\n",
    "# Image preprocessing modules\n",
    "transform = transforms.Compose([\n",
    "    transforms.Pad(4),\n",
    "    transforms.RandomHorizontalFlip(),\n",
    "    transforms.RandomCrop(32),\n",
    "    transforms.ToTensor()])\n",
    "\n",
    "# CIFAR-10 dataset\n",
    "train_dataset = torchvision.datasets.CIFAR10(root='../../data/',\n",
    "                                             train=True, \n",
    "                                             transform=transform,\n",
    "                                             download=True)\n",
    "\n",
    "test_dataset = torchvision.datasets.CIFAR10(root='../../data/',\n",
    "                                            train=False, \n",
    "                                            transform=transforms.ToTensor())\n",
    "\n",
    "# Data loader\n",
    "train_loader = torch.utils.data.DataLoader(dataset=train_dataset,\n",
    "                                           batch_size=batch_size,\n",
    "                                           shuffle=True)\n",
    "\n",
    "test_loader = torch.utils.data.DataLoader(dataset=test_dataset,\n",
    "                                          batch_size=batch_size,\n",
    "                                          shuffle=False)"
   ]
  },
  {
   "cell_type": "code",
   "execution_count": 5,
   "id": "317208e3-0474-4de8-91f4-aa71d6ca193e",
   "metadata": {},
   "outputs": [],
   "source": [
    "def conv3x3(in_channels, out_channels, stride=1):\n",
    "    return nn.Conv2d(in_channels, out_channels, kernel_size=3, stride=stride, padding=1, bias=False)\n",
    "\n",
    "class ResidualBlock(nn.Module):\n",
    "    def __init__(self, in_channels, out_channels, stride=1, downsample=None):\n",
    "        super(ResidualBlock, self).__init__()\n",
    "        self.conv1 = conv3x3(in_channels, out_channels, stride)\n",
    "        self.bn1 = nn.BatchNorm2d(out_channels)\n",
    "        self.relu = nn.ReLU(inplace=True)\n",
    "        self.conv2 = conv3x3(out_channels, out_channels)\n",
    "        self.bn2 = nn.BatchNorm2d(out_channels)\n",
    "        self.downsample = downsample\n",
    "        \n",
    "    def forward(self, x):\n",
    "        residual = x\n",
    "        out = self.conv1(x)\n",
    "        out = self.bn1(out)\n",
    "        out = self.relu(out)\n",
    "        out = self.conv2(out)\n",
    "        out = self.bn2(out)\n",
    "        if self.downsample:\n",
    "            residual = self.downsample(x)\n",
    "        out += residual\n",
    "        out = self.relu(out)\n",
    "        return out"
   ]
  },
  {
   "cell_type": "code",
   "execution_count": 6,
   "id": "f2805e0c-82bb-4c6f-a66a-54814f53f907",
   "metadata": {},
   "outputs": [],
   "source": [
    "class ResNet(nn.Module):\n",
    "    def __init__(self, block, layers, num_classes=10):\n",
    "        super(ResNet, self).__init__()\n",
    "        self.in_channels = 16\n",
    "        self.conv = conv3x3(3, 16)\n",
    "        self.bn = nn.BatchNorm2d(16)\n",
    "        self.relu = nn.ReLU(inplace=True)\n",
    "        self.layer1 = self.make_layer(block, 16, layers[0])\n",
    "        self.layer2 = self.make_layer(block, 32, layers[1], 2)\n",
    "        self.layer3 = self.make_layer(block, 64, layers[2], 2)\n",
    "        self.avg_pool = nn.AvgPool2d(8)\n",
    "        self.fc = nn.Linear(64, num_classes)\n",
    "        \n",
    "    def make_layer(self, block, out_channels, blocks, stride=1):\n",
    "        downsample = None\n",
    "        if (stride != 1) or (self.in_channels != out_channels):\n",
    "            downsample = nn.Sequential(conv3x3(self.in_channels, out_channels, stride=stride),\n",
    "                                       nn.BatchNorm2d(out_channels))\n",
    "        layers = []\n",
    "        layers.append(block(self.in_channels, out_channels, stride, downsample))\n",
    "        self.in_channels = out_channels\n",
    "        for i in range(1, blocks):\n",
    "            layers.append(block(out_channels, out_channels))\n",
    "        return nn.Sequential(*layers)\n",
    "    \n",
    "    def forward(self, x):\n",
    "        out = self.conv(x)\n",
    "        out = self.bn(out)\n",
    "        out = self.relu(out)\n",
    "        out = self.layer1(out)\n",
    "        out = self.layer2(out)\n",
    "        out = self.layer3(out)\n",
    "        out = self.avg_pool(out)\n",
    "        out = out.view(out.size(0), -1)\n",
    "        out = self.fc(out)\n",
    "        return out"
   ]
  },
  {
   "cell_type": "code",
   "execution_count": 7,
   "id": "a9cc7a1c-1c3d-4958-a9e0-b5e8ab182a53",
   "metadata": {},
   "outputs": [],
   "source": [
    "model = ResNet(ResidualBlock, [2, 2, 2]).to(device)\n",
    "criterion = nn.CrossEntropyLoss()\n",
    "optimizer = torch.optim.Adam(model.parameters(), lr=learning_rate)"
   ]
  },
  {
   "cell_type": "code",
   "execution_count": 8,
   "id": "9d899cbc-fa58-4f31-9c19-a1d664221b34",
   "metadata": {},
   "outputs": [
    {
     "name": "stdout",
     "output_type": "stream",
     "text": [
      "Model's state_dict:\n",
      "conv.weight \t torch.Size([16, 3, 3, 3])\n",
      "bn.weight \t torch.Size([16])\n",
      "bn.bias \t torch.Size([16])\n",
      "bn.running_mean \t torch.Size([16])\n",
      "bn.running_var \t torch.Size([16])\n",
      "bn.num_batches_tracked \t torch.Size([])\n",
      "layer1.0.conv1.weight \t torch.Size([16, 16, 3, 3])\n",
      "layer1.0.bn1.weight \t torch.Size([16])\n",
      "layer1.0.bn1.bias \t torch.Size([16])\n",
      "layer1.0.bn1.running_mean \t torch.Size([16])\n",
      "layer1.0.bn1.running_var \t torch.Size([16])\n",
      "layer1.0.bn1.num_batches_tracked \t torch.Size([])\n",
      "layer1.0.conv2.weight \t torch.Size([16, 16, 3, 3])\n",
      "layer1.0.bn2.weight \t torch.Size([16])\n",
      "layer1.0.bn2.bias \t torch.Size([16])\n",
      "layer1.0.bn2.running_mean \t torch.Size([16])\n",
      "layer1.0.bn2.running_var \t torch.Size([16])\n",
      "layer1.0.bn2.num_batches_tracked \t torch.Size([])\n",
      "layer1.1.conv1.weight \t torch.Size([16, 16, 3, 3])\n",
      "layer1.1.bn1.weight \t torch.Size([16])\n",
      "layer1.1.bn1.bias \t torch.Size([16])\n",
      "layer1.1.bn1.running_mean \t torch.Size([16])\n",
      "layer1.1.bn1.running_var \t torch.Size([16])\n",
      "layer1.1.bn1.num_batches_tracked \t torch.Size([])\n",
      "layer1.1.conv2.weight \t torch.Size([16, 16, 3, 3])\n",
      "layer1.1.bn2.weight \t torch.Size([16])\n",
      "layer1.1.bn2.bias \t torch.Size([16])\n",
      "layer1.1.bn2.running_mean \t torch.Size([16])\n",
      "layer1.1.bn2.running_var \t torch.Size([16])\n",
      "layer1.1.bn2.num_batches_tracked \t torch.Size([])\n",
      "layer2.0.conv1.weight \t torch.Size([32, 16, 3, 3])\n",
      "layer2.0.bn1.weight \t torch.Size([32])\n",
      "layer2.0.bn1.bias \t torch.Size([32])\n",
      "layer2.0.bn1.running_mean \t torch.Size([32])\n",
      "layer2.0.bn1.running_var \t torch.Size([32])\n",
      "layer2.0.bn1.num_batches_tracked \t torch.Size([])\n",
      "layer2.0.conv2.weight \t torch.Size([32, 32, 3, 3])\n",
      "layer2.0.bn2.weight \t torch.Size([32])\n",
      "layer2.0.bn2.bias \t torch.Size([32])\n",
      "layer2.0.bn2.running_mean \t torch.Size([32])\n",
      "layer2.0.bn2.running_var \t torch.Size([32])\n",
      "layer2.0.bn2.num_batches_tracked \t torch.Size([])\n",
      "layer2.0.downsample.0.weight \t torch.Size([32, 16, 3, 3])\n",
      "layer2.0.downsample.1.weight \t torch.Size([32])\n",
      "layer2.0.downsample.1.bias \t torch.Size([32])\n",
      "layer2.0.downsample.1.running_mean \t torch.Size([32])\n",
      "layer2.0.downsample.1.running_var \t torch.Size([32])\n",
      "layer2.0.downsample.1.num_batches_tracked \t torch.Size([])\n",
      "layer2.1.conv1.weight \t torch.Size([32, 32, 3, 3])\n",
      "layer2.1.bn1.weight \t torch.Size([32])\n",
      "layer2.1.bn1.bias \t torch.Size([32])\n",
      "layer2.1.bn1.running_mean \t torch.Size([32])\n",
      "layer2.1.bn1.running_var \t torch.Size([32])\n",
      "layer2.1.bn1.num_batches_tracked \t torch.Size([])\n",
      "layer2.1.conv2.weight \t torch.Size([32, 32, 3, 3])\n",
      "layer2.1.bn2.weight \t torch.Size([32])\n",
      "layer2.1.bn2.bias \t torch.Size([32])\n",
      "layer2.1.bn2.running_mean \t torch.Size([32])\n",
      "layer2.1.bn2.running_var \t torch.Size([32])\n",
      "layer2.1.bn2.num_batches_tracked \t torch.Size([])\n",
      "layer3.0.conv1.weight \t torch.Size([64, 32, 3, 3])\n",
      "layer3.0.bn1.weight \t torch.Size([64])\n",
      "layer3.0.bn1.bias \t torch.Size([64])\n",
      "layer3.0.bn1.running_mean \t torch.Size([64])\n",
      "layer3.0.bn1.running_var \t torch.Size([64])\n",
      "layer3.0.bn1.num_batches_tracked \t torch.Size([])\n",
      "layer3.0.conv2.weight \t torch.Size([64, 64, 3, 3])\n",
      "layer3.0.bn2.weight \t torch.Size([64])\n",
      "layer3.0.bn2.bias \t torch.Size([64])\n",
      "layer3.0.bn2.running_mean \t torch.Size([64])\n",
      "layer3.0.bn2.running_var \t torch.Size([64])\n",
      "layer3.0.bn2.num_batches_tracked \t torch.Size([])\n",
      "layer3.0.downsample.0.weight \t torch.Size([64, 32, 3, 3])\n",
      "layer3.0.downsample.1.weight \t torch.Size([64])\n",
      "layer3.0.downsample.1.bias \t torch.Size([64])\n",
      "layer3.0.downsample.1.running_mean \t torch.Size([64])\n",
      "layer3.0.downsample.1.running_var \t torch.Size([64])\n",
      "layer3.0.downsample.1.num_batches_tracked \t torch.Size([])\n",
      "layer3.1.conv1.weight \t torch.Size([64, 64, 3, 3])\n",
      "layer3.1.bn1.weight \t torch.Size([64])\n",
      "layer3.1.bn1.bias \t torch.Size([64])\n",
      "layer3.1.bn1.running_mean \t torch.Size([64])\n",
      "layer3.1.bn1.running_var \t torch.Size([64])\n",
      "layer3.1.bn1.num_batches_tracked \t torch.Size([])\n",
      "layer3.1.conv2.weight \t torch.Size([64, 64, 3, 3])\n",
      "layer3.1.bn2.weight \t torch.Size([64])\n",
      "layer3.1.bn2.bias \t torch.Size([64])\n",
      "layer3.1.bn2.running_mean \t torch.Size([64])\n",
      "layer3.1.bn2.running_var \t torch.Size([64])\n",
      "layer3.1.bn2.num_batches_tracked \t torch.Size([])\n",
      "fc.weight \t torch.Size([10, 64])\n",
      "fc.bias \t torch.Size([10])\n",
      "\n",
      "Optimizer's state_dict:\n",
      "state \t {}\n",
      "param_groups \t [{'lr': 0.001, 'betas': (0.9, 0.999), 'eps': 1e-08, 'weight_decay': 0, 'amsgrad': False, 'maximize': False, 'params': [0, 1, 2, 3, 4, 5, 6, 7, 8, 9, 10, 11, 12, 13, 14, 15, 16, 17, 18, 19, 20, 21, 22, 23, 24, 25, 26, 27, 28, 29, 30, 31, 32, 33, 34, 35, 36, 37, 38, 39, 40, 41, 42, 43, 44, 45, 46]}]\n"
     ]
    }
   ],
   "source": [
    "# Print model's state_dict\n",
    "print(\"Model's state_dict:\")\n",
    "for param_tensor in model.state_dict():\n",
    "    print(param_tensor, \"\\t\", model.state_dict()[param_tensor].size())\n",
    "    \n",
    "print()\n",
    "\n",
    "# Print optimizer's state_dict\n",
    "print(\"Optimizer's state_dict:\")\n",
    "for var_name in optimizer.state_dict():\n",
    "    print(var_name, \"\\t\", optimizer.state_dict()[var_name])\n"
   ]
  },
  {
   "cell_type": "code",
   "execution_count": 9,
   "id": "40c3e62b-89cc-4b1c-8845-66bc9e231d0a",
   "metadata": {},
   "outputs": [],
   "source": [
    "#Detalle de los tensores de los parametros\n",
    "#for param in model.parameters():\n",
    "#    print(param)"
   ]
  },
  {
   "cell_type": "code",
   "execution_count": 10,
   "id": "8152f564-0a5f-481e-9ef4-44aa888ca53d",
   "metadata": {},
   "outputs": [
    {
     "name": "stdout",
     "output_type": "stream",
     "text": [
      "Epoch [1/3], Step [100/500] Loss: 1.4292\n",
      "Epoch [1/3], Step [200/500] Loss: 1.4359\n",
      "Epoch [1/3], Step [300/500] Loss: 1.3116\n",
      "Epoch [1/3], Step [400/500] Loss: 1.1250\n",
      "Epoch [1/3], Step [500/500] Loss: 1.0609\n",
      "Epoch [2/3], Step [100/500] Loss: 0.9956\n",
      "Epoch [2/3], Step [200/500] Loss: 1.0029\n",
      "Epoch [2/3], Step [300/500] Loss: 0.9559\n",
      "Epoch [2/3], Step [400/500] Loss: 0.7956\n",
      "Epoch [2/3], Step [500/500] Loss: 1.0043\n",
      "Epoch [3/3], Step [100/500] Loss: 1.1316\n",
      "Epoch [3/3], Step [200/500] Loss: 0.7942\n",
      "Epoch [3/3], Step [300/500] Loss: 0.8083\n",
      "Epoch [3/3], Step [400/500] Loss: 0.8620\n",
      "Epoch [3/3], Step [500/500] Loss: 0.6648\n"
     ]
    }
   ],
   "source": [
    "decay = 0\n",
    "model.train()\n",
    "for epoch in range(num_epochs):\n",
    "    \n",
    "    # Decay the learning rate every 20 epochs\n",
    "    if (epoch+1) % 20 == 0:\n",
    "        decay+=1\n",
    "        optimizer.param_groups[0]['lr'] = learning_rate * (0.5**decay)\n",
    "        print(\"The new learning rate is {}\".format(optimizer.param_groups[0]['lr']))\n",
    "        \n",
    "    for i, (images, labels) in enumerate(train_loader):\n",
    "        images = images.to(device)\n",
    "        labels = labels.to(device)\n",
    "        outputs = model(images)\n",
    "        loss = criterion(outputs, labels)\n",
    "        optimizer.zero_grad()\n",
    "        loss.backward()\n",
    "        optimizer.step()\n",
    "        \n",
    "        if (i+1) % 100 == 0:\n",
    "            print (\"Epoch [{}/{}], Step [{}/{}] Loss: {:.4f}\"\n",
    "                   .format(epoch+1, num_epochs, i+1, len(train_loader), loss.item()))\n",
    "            # para cada epoca guarda el avance\n",
    "            EPOCH = epoch+1\n",
    "            # Guardar checkpoint\n",
    "            PATH = \"RestNet_TP_epoca_[{}]\".format(EPOCH)\n",
    "            LOSS = loss.item()\n",
    "\n",
    "            torch.save({\n",
    "               'epoch': EPOCH,\n",
    "               'model_state_dict': model.state_dict(),\n",
    "               'optimizer_state_dict': optimizer.state_dict(),\n",
    "               'loss': LOSS,\n",
    "                }, PATH)\n"
   ]
  },
  {
   "cell_type": "markdown",
   "id": "4238650d-bc54-41b1-b01f-6cdf61bc4c9c",
   "metadata": {},
   "source": [
    "# Guarda el modelo entrenado"
   ]
  },
  {
   "cell_type": "code",
   "execution_count": 11,
   "id": "fd873508-69bf-43e5-b698-7362d5b48083",
   "metadata": {},
   "outputs": [],
   "source": [
    "# Training End TE\n",
    "torch.save(model, './RestNet_TE.pth')"
   ]
  },
  {
   "cell_type": "code",
   "execution_count": 12,
   "id": "ef42b1dc-f89d-4cc7-a793-eaadc316580c",
   "metadata": {},
   "outputs": [
    {
     "name": "stdout",
     "output_type": "stream",
     "text": [
      "Accuracy of the model on the test images: 69.67 %\n"
     ]
    }
   ],
   "source": [
    "model.eval()\n",
    "with torch.no_grad():\n",
    "    correct = 0\n",
    "    total = 0\n",
    "    for images, labels in test_loader:\n",
    "        images = images.to(device)\n",
    "        labels = labels.to(device)\n",
    "        outputs = model(images)\n",
    "        _, predicted = torch.max(outputs.data, 1)\n",
    "        total += labels.size(0)\n",
    "        correct += (predicted == labels).sum().item()\n",
    "\n",
    "    print('Accuracy of the model on the test images: {} %'.format(100 * correct / total))"
   ]
  },
  {
   "cell_type": "code",
   "execution_count": 13,
   "id": "8b9a9137-abf2-46ee-b97a-db7363341279",
   "metadata": {},
   "outputs": [
    {
     "name": "stdout",
     "output_type": "stream",
     "text": [
      "----------------------------------------------------------------\n",
      "        Layer (type)               Output Shape         Param #\n",
      "================================================================\n",
      "            Conv2d-1           [-1, 16, 32, 32]             432\n",
      "       BatchNorm2d-2           [-1, 16, 32, 32]              32\n",
      "              ReLU-3           [-1, 16, 32, 32]               0\n",
      "            Conv2d-4           [-1, 16, 32, 32]           2,304\n",
      "       BatchNorm2d-5           [-1, 16, 32, 32]              32\n",
      "              ReLU-6           [-1, 16, 32, 32]               0\n",
      "            Conv2d-7           [-1, 16, 32, 32]           2,304\n",
      "       BatchNorm2d-8           [-1, 16, 32, 32]              32\n",
      "              ReLU-9           [-1, 16, 32, 32]               0\n",
      "    ResidualBlock-10           [-1, 16, 32, 32]               0\n",
      "           Conv2d-11           [-1, 16, 32, 32]           2,304\n",
      "      BatchNorm2d-12           [-1, 16, 32, 32]              32\n",
      "             ReLU-13           [-1, 16, 32, 32]               0\n",
      "           Conv2d-14           [-1, 16, 32, 32]           2,304\n",
      "      BatchNorm2d-15           [-1, 16, 32, 32]              32\n",
      "             ReLU-16           [-1, 16, 32, 32]               0\n",
      "    ResidualBlock-17           [-1, 16, 32, 32]               0\n",
      "           Conv2d-18           [-1, 32, 16, 16]           4,608\n",
      "      BatchNorm2d-19           [-1, 32, 16, 16]              64\n",
      "             ReLU-20           [-1, 32, 16, 16]               0\n",
      "           Conv2d-21           [-1, 32, 16, 16]           9,216\n",
      "      BatchNorm2d-22           [-1, 32, 16, 16]              64\n",
      "           Conv2d-23           [-1, 32, 16, 16]           4,608\n",
      "      BatchNorm2d-24           [-1, 32, 16, 16]              64\n",
      "             ReLU-25           [-1, 32, 16, 16]               0\n",
      "    ResidualBlock-26           [-1, 32, 16, 16]               0\n",
      "           Conv2d-27           [-1, 32, 16, 16]           9,216\n",
      "      BatchNorm2d-28           [-1, 32, 16, 16]              64\n",
      "             ReLU-29           [-1, 32, 16, 16]               0\n",
      "           Conv2d-30           [-1, 32, 16, 16]           9,216\n",
      "      BatchNorm2d-31           [-1, 32, 16, 16]              64\n",
      "             ReLU-32           [-1, 32, 16, 16]               0\n",
      "    ResidualBlock-33           [-1, 32, 16, 16]               0\n",
      "           Conv2d-34             [-1, 64, 8, 8]          18,432\n",
      "      BatchNorm2d-35             [-1, 64, 8, 8]             128\n",
      "             ReLU-36             [-1, 64, 8, 8]               0\n",
      "           Conv2d-37             [-1, 64, 8, 8]          36,864\n",
      "      BatchNorm2d-38             [-1, 64, 8, 8]             128\n",
      "           Conv2d-39             [-1, 64, 8, 8]          18,432\n",
      "      BatchNorm2d-40             [-1, 64, 8, 8]             128\n",
      "             ReLU-41             [-1, 64, 8, 8]               0\n",
      "    ResidualBlock-42             [-1, 64, 8, 8]               0\n",
      "           Conv2d-43             [-1, 64, 8, 8]          36,864\n",
      "      BatchNorm2d-44             [-1, 64, 8, 8]             128\n",
      "             ReLU-45             [-1, 64, 8, 8]               0\n",
      "           Conv2d-46             [-1, 64, 8, 8]          36,864\n",
      "      BatchNorm2d-47             [-1, 64, 8, 8]             128\n",
      "             ReLU-48             [-1, 64, 8, 8]               0\n",
      "    ResidualBlock-49             [-1, 64, 8, 8]               0\n",
      "        AvgPool2d-50             [-1, 64, 1, 1]               0\n",
      "           Linear-51                   [-1, 10]             650\n",
      "================================================================\n",
      "Total params: 195,738\n",
      "Trainable params: 195,738\n",
      "Non-trainable params: 0\n",
      "----------------------------------------------------------------\n",
      "Input size (MB): 0.01\n",
      "Forward/backward pass size (MB): 3.63\n",
      "Params size (MB): 0.75\n",
      "Estimated Total Size (MB): 4.38\n",
      "----------------------------------------------------------------\n"
     ]
    }
   ],
   "source": [
    "summary(model, (3,32,32))"
   ]
  },
  {
   "cell_type": "code",
   "execution_count": null,
   "id": "a2d6fc1a-977a-482d-bfe4-106fae6fc968",
   "metadata": {},
   "outputs": [],
   "source": [
    "break; "
   ]
  },
  {
   "cell_type": "markdown",
   "id": "e0ac1617-bbb2-45e8-a73c-d33a9015d58b",
   "metadata": {},
   "source": [
    "# Timing Pytorch Code Fragments"
   ]
  },
  {
   "cell_type": "markdown",
   "id": "6aede036-610d-40ae-b08b-9288993c5e41",
   "metadata": {},
   "source": [
    "## Wrong Way"
   ]
  },
  {
   "cell_type": "code",
   "execution_count": null,
   "id": "0d05a8df-ec38-4e31-959a-ee638553ebcd",
   "metadata": {},
   "outputs": [],
   "source": [
    "# Below timing method will NOT work for asynchronous cuda calls\n",
    "import time as timerstart = timer.time()\n",
    "loss.backward()\n",
    "print(\"Time taken\", timer.time() - start)  # tiny value"
   ]
  },
  {
   "cell_type": "markdown",
   "id": "fabe6025-104b-471b-a451-d386dbf365e9",
   "metadata": {},
   "source": [
    "## Right Way"
   ]
  },
  {
   "cell_type": "code",
   "execution_count": null,
   "id": "e0e97df5-5954-4679-b99b-735dce2d219c",
   "metadata": {},
   "outputs": [],
   "source": [
    "start = torch.cuda.Event(enable_timing=True)\n",
    "end = torch.cuda.Event(enable_timing=True)\n",
    "\n",
    "start.record()# whatever you are timing goes hereend.record()\n",
    "\n",
    "# Waits for everything to finish running\n",
    "torch.cuda.synchronize()\n",
    "\n",
    "print(start.elapsed_time(end))  # milliseconds\n",
    "\n",
    "## More detail example: https://gist.github.com/aurotripathy/2ee988e9bbaecc78a509fd6a21d3076d"
   ]
  },
  {
   "cell_type": "code",
   "execution_count": null,
   "id": "6471c27d-123a-4c96-9690-21d023e40aa0",
   "metadata": {},
   "outputs": [],
   "source": []
  },
  {
   "cell_type": "markdown",
   "id": "88404909-6ee7-4c3f-9c73-bd3266468d18",
   "metadata": {},
   "source": [
    "# Saving Combinations between CPU & GPU"
   ]
  },
  {
   "cell_type": "markdown",
   "id": "32048942-d408-4690-b8c7-992a57ffc3e5",
   "metadata": {},
   "source": [
    "## Save GPU and load on CPU"
   ]
  },
  {
   "cell_type": "code",
   "execution_count": null,
   "id": "77e639ef-3acd-44bf-85df-2c80cba086ab",
   "metadata": {},
   "outputs": [],
   "source": [
    "#Save \n",
    "device = torch.device(\"cuda\")\n",
    "model.to(device)\n",
    "torch.save(model.state_dict(), PATH)"
   ]
  },
  {
   "cell_type": "code",
   "execution_count": null,
   "id": "e56ec703-7da2-4083-90f9-0d69f1e71526",
   "metadata": {},
   "outputs": [],
   "source": [
    "# Load\n",
    "device = torch.device('cpu')\n",
    "model. Model(*args, **kwargs)\n",
    "model.load_state_dict(torch.load(PATH, map_location=device))"
   ]
  },
  {
   "cell_type": "markdown",
   "id": "f81e994d-b480-49d2-b6dc-935a45edfd2d",
   "metadata": {},
   "source": [
    "## Save GPU load GPU"
   ]
  },
  {
   "cell_type": "code",
   "execution_count": null,
   "id": "bbd3332f-f000-4ca7-8a6b-4b7ffc24f081",
   "metadata": {},
   "outputs": [],
   "source": [
    "#Save \n",
    "device = torch.device(\"cuda\")\n",
    "model.to(device)\n",
    "torch.save(model.state_dict(), PATH)"
   ]
  },
  {
   "cell_type": "code",
   "execution_count": null,
   "id": "a385c6a2-0832-45e7-b6bd-25f894dcbd6f",
   "metadata": {},
   "outputs": [],
   "source": [
    "# Load\n",
    "model. Model(*args, **kwargs)\n",
    "model.load_state_dict(torch.load(PATH))\n",
    "model.to(devide)\n"
   ]
  },
  {
   "cell_type": "markdown",
   "id": "383ecea3-d793-409b-8b41-0ffd37731c02",
   "metadata": {},
   "source": [
    "## Save CPU load GPU"
   ]
  },
  {
   "cell_type": "code",
   "execution_count": null,
   "id": "ed05c147-527a-4d18-9fae-ff4af88a02c3",
   "metadata": {},
   "outputs": [],
   "source": [
    "# Save\n",
    "torch.save(model.state_dict(), PATH)"
   ]
  },
  {
   "cell_type": "code",
   "execution_count": null,
   "id": "4bb7a208-03c2-4f62-800f-f136cae64039",
   "metadata": {},
   "outputs": [],
   "source": [
    "# Load\n",
    "device = torch.device(\"cuda\")\n",
    "model. Model(*args, **kwargs)\n",
    "model.load_state_dict(torch.load(PATH, map_location=\"cuda\"))\n",
    "model.to(device)"
   ]
  }
 ],
 "metadata": {
  "kernelspec": {
   "display_name": "Python 3 (ipykernel)",
   "language": "python",
   "name": "python3"
  },
  "language_info": {
   "codemirror_mode": {
    "name": "ipython",
    "version": 3
   },
   "file_extension": ".py",
   "mimetype": "text/x-python",
   "name": "python",
   "nbconvert_exporter": "python",
   "pygments_lexer": "ipython3",
   "version": "3.9.7"
  }
 },
 "nbformat": 4,
 "nbformat_minor": 5
}
