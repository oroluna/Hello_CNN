{
 "cells": [
  {
   "cell_type": "markdown",
   "metadata": {},
   "source": [
    "# 1.- Arquitectura de aprendizaje a utilizar\n",
    "\n",
    "## VGG16\n",
    "\n",
    "VGG16 is a convolutional neural network model proposed by K. Simonyan and A. Zisserman from the University of Oxford in the paper “Very Deep Convolutional Networks for Large-Scale Image Recognition”. The model achieves 92.7% top-5 test accuracy in ImageNet, which is a dataset of over 14 million images belonging to 1000 classes.  \n",
    "\n",
    "**References**  \n",
    "VERY DEEP CONVOLUTIONAL NETWORKS FOR LARGE-SCALE IMAGE RECOGNITION\n",
    "https://arxiv.org/pdf/1409.1556.pdf \n",
    "\n",
    "**Referencias de codigo**  \n",
    "https://github.com/rasbt/stat453-deep-learning-ss21/blob/main/L14/1.1-vgg16.ipynb "
   ]
  },
  {
   "cell_type": "markdown",
   "metadata": {},
   "source": [
    "# 2.- Definición de la clase VGG16\n",
    "\n",
    "VGG16(  \n",
    "**(block_1): Sequential(**  \n",
    "- (0): Conv2d(3, 64, kernel_size=(3, 3), stride=(1, 1), padding=(1, 1))  \n",
    "- (1): ReLU()  \n",
    "- (2): Conv2d(64, 64, kernel_size=(3, 3), stride=(1, 1), padding=(1, 1))  \n",
    "- (3): ReLU()  \n",
    "- (4): MaxPool2d(kernel_size=(2, 2), stride=(2, 2), padding=0, dilation=1,   ceil_mode=False))  \n",
    "**(block_2): Sequential(**  \n",
    "- (0): Conv2d(64, 128, kernel_size=(3, 3), stride=(1, 1), padding=(1, 1))  \n",
    "- (1): ReLU()  \n",
    "- (2): Conv2d(128, 128, kernel_size=(3, 3), stride=(1, 1), padding=(1, 1))  \n",
    "- (3): ReLU()  \n",
    "- (4): MaxPool2d(kernel_size=(2, 2), stride=(2, 2), padding=0, dilation=1,  ceil_mode=False))  \n",
    "**(block_3): Sequential(**  \n",
    "- (0): Conv2d(128, 256, kernel_size=(3, 3), stride=(1, 1), padding=(1, 1))  \n",
    "- (1): ReLU()  \n",
    "- (2): Conv2d(256, 256, kernel_size=(3, 3), stride=(1, 1), padding=(1, 1))  \n",
    "- (3): ReLU()   \n",
    "- (4): Conv2d(256, 256, kernel_size=(3, 3), stride=(1, 1), padding=(1, 1))  \n",
    "- (5): ReLU()  \n",
    "- (6): MaxPool2d(kernel_size=(2, 2), stride=(2, 2), padding=0, dilation=1, ceil_mode=False))  \n",
    "**(block_4): Sequential(**  \n",
    "- (0): Conv2d(256, 512, kernel_size=(3, 3), stride=(1, 1), padding=(1, 1)) \n",
    "- (1): ReLU()  \n",
    "- (2): Conv2d(512, 512, kernel_size=(3, 3), stride=(1, 1), padding=(1, 1))  \n",
    "- (3): ReLU()  \n",
    "- (4): Conv2d(512, 512, kernel_size=(3, 3), stride=(1, 1), padding=(1, 1))  \n",
    "- (5): ReLU()  \n",
    "- (6): Dropout(p=0.5, inplace=False)  \n",
    "- (7): MaxPool2d(kernel_size=(2, 2), stride=(2, 2), padding=0, dilation=1,  ceil_mode=False))  \n",
    "**(block_5): Sequential(**  \n",
    "- (0): Conv2d(512, 512, kernel_size=(3, 3), stride=(1, 1), padding=(1, 1)) \n",
    "- (1): ReLU() \n",
    "- (2): Dropout(p=0.5, inplace=False) \n",
    "- (3): Conv2d(512, 512, kernel_size=(3, 3), stride=(1, 1), padding=(1, 1)) \n",
    "- (4): ReLU() \n",
    "- (5): Dropout(p=0.5, inplace=False) \n",
    "- (6): Conv2d(512, 512, kernel_size=(3, 3), stride=(1, 1), padding=(1, 1)) \n",
    "- (7): ReLU() \n",
    "- (8): Dropout(p=0.5, inplace=False) \n",
    "- (9): MaxPool2d(kernel_size=(2, 2), stride=(2, 2), padding=0, dilation=1,  ceil_mode=False) \n",
    "  )  \n",
    "**(classifier): Sequential(**   \n",
    "- (0): Linear(in_features=4608, out_features=4096, bias=True)  \n",
    "- (1): Dropout(p=0.5, inplace=False)  \n",
    "- (2): ReLU(inplace=True)  \n",
    "- (3): Linear(in_features=4096, out_features=4096, bias=True)  \n",
    "- (4): Dropout(p=0.5, inplace=False)  \n",
    "- (5): ReLU(inplace=True)  \n",
    "- (6): Linear(in_features=4096, out_features=10, bias=True)  \n",
    "  ) \n",
    "  (avgpool): AdaptiveAvgPool2d(output_size=(3, 3)) ) "
   ]
  },
  {
   "cell_type": "markdown",
   "metadata": {},
   "source": [
    "## 3- Caracterización de los datos de entrada\n",
    "\n",
    "Datos de simulacion de 2019, compartida por la colaboración HK-Canada\n",
    "\n",
    "Varios conjuntos de dataset\n",
    "\n",
    "- [x] Varying energy  \n",
    "- [ ] Varying position  \n",
    "- [ ] Varying everything  \n",
    "  \n",
    "  \n",
    "### IWCD geometry with grid of 3\" PMTs \n",
    "**Varying energy and direction** \n",
    "- e-, mu-, gamma, 1,000,000 events each \n",
    "- Evis between 20 MeV and 2 GeV \n",
    "- Centred position & vertical direction, varying direction around axis \n",
    "\n",
    "**Varying R position and direction**  \n",
    "- e-, mu-, gamma, 1,000,000 events each \n",
    "- Fixed visible energy 200 MeV, fixed vertical direction \n",
    "- Varying radial position and direction aroung axis \n",
    "\n",
    "**Varying everything** \n",
    "- e-, mu-, gamma and pi0, 1,000,000 events each \n",
    "- Varying energy (20 MeV to 2 GeV), position (≥50cm from wall), direction (isotropic) \n",
    "  \n",
    "---  \n",
    "#### Cantidad de archivos a utilizar  \n",
    "##### Archivos en formato HD5  \n",
    "100,000 eventos por particula\n",
    "---  \n",
    "   \n",
    "   "
   ]
  },
  {
   "cell_type": "markdown",
   "metadata": {},
   "source": [
    "## Librerias a utilizar"
   ]
  },
  {
   "cell_type": "code",
   "execution_count": 1,
   "metadata": {},
   "outputs": [],
   "source": [
    "import torch\n",
    "import torchvision\n",
    "import numpy as np\n",
    "import matplotlib.pyplot as plt\n",
    "import torch, time\n",
    "import iotools"
   ]
  },
  {
   "cell_type": "code",
   "execution_count": 2,
   "metadata": {
    "scrolled": true
   },
   "outputs": [],
   "source": [
    "# From local helper files\n",
    "from helper_evaluation import set_all_seeds, set_deterministic, compute_confusion_matrix\n",
    "#from helper_train import train_model\n",
    "from helper_plotting import plot_training_loss, plot_accuracy, show_examples, plot_confusion_matrix\n",
    "from helper_dataset import get_dataloaders_cifar10, UnNormalize\n"
   ]
  },
  {
   "cell_type": "code",
   "execution_count": 3,
   "metadata": {},
   "outputs": [
    {
     "data": {
      "text/plain": [
       "'/lustre/home/forozco/HKM/do_ML/ML_03/3_Scripts/iotools'"
      ]
     },
     "execution_count": 3,
     "metadata": {},
     "output_type": "execute_result"
    }
   ],
   "source": [
    "# Revisar si existen rutas definidas en el pythonpath \n",
    "import os\n",
    "os.environ['PYTHONPATH']\n"
   ]
  },
  {
   "cell_type": "markdown",
   "metadata": {},
   "source": [
    "# Settings & Dataset\n",
    "\n",
    "\n",
    "### Clases a utilizar\n",
    "\n",
    "Numero de clases a utilizar en el entrenamiento:\n",
    "- 0  gamma\n",
    "- 1  electron\n",
    "- 2  muon\n",
    "\n",
    "\n",
    "### Formalizar el porque se utiliza ese tamaño de batch ???\n",
    "    # Scripts CNN del articulo fue de 64,  ???\n"
   ]
  },
  {
   "cell_type": "code",
   "execution_count": 37,
   "metadata": {},
   "outputs": [],
   "source": [
    "import torch.nn as nn"
   ]
  },
  {
   "cell_type": "code",
   "execution_count": 4,
   "metadata": {},
   "outputs": [],
   "source": [
    "##########################\n",
    "### SETTINGS\n",
    "##########################\n",
    "\n",
    "RANDOM_SEED = 123\n",
    "BATCH_SIZE = 64\n",
    "#BATCH_SIZE = 256\n",
    "#NUM_EPOCHS = 50\n",
    "NUM_EPOCHS = 15\n",
    "DEVICE = torch.device('cuda:1' if torch.cuda.is_available() else 'cpu')\n",
    "#DEVICE = torch.device('cuda')     # Default CUDA device\n",
    "\n",
    "set_all_seeds(RANDOM_SEED)\n",
    "\n",
    "# Directorios de donde se toman los archivos HD5 para ser utilizados en el entrenamiento\n",
    "#DATA_DIRS=['/home/cads/Documentos/making/Demos_H5/H5_varyR']\n",
    "DATA_DIRS=['/lustre/home/forozco/HKM/do_ML/ML_03/3_Scripts/']\n",
    "\n",
    "# Directorios donde van a ser mandados los logs del entrenamiento\n",
    "DATA_LOGS='/lustre/home/forozco/HKM/do_ML/ML_03/3_Scripts/'\n",
    "\n",
    "# Nombre del archivo LOG del entrenamiento\n",
    "LOG_FILE_TRAIN='log_train.csv'\n",
    "# Nombre del archivo LOG del validacion\n",
    "LOG_FILE_VAL='log_valid.csv'\n",
    "# Nombre del archivo LOG del validacion\n",
    "LOG_FILE_TEST='log_test.csv'\n",
    "\n"
   ]
  },
  {
   "cell_type": "code",
   "execution_count": null,
   "metadata": {},
   "outputs": [],
   "source": []
  },
  {
   "cell_type": "markdown",
   "metadata": {},
   "source": [
    "# Dataset HK - Data 2019 - create data loader"
   ]
  },
  {
   "cell_type": "code",
   "execution_count": 5,
   "metadata": {},
   "outputs": [
    {
     "name": "stdout",
     "output_type": "stream",
     "text": [
      "Image batch dimensions: (64, 88, 168, 2)\n",
      "Image label dimensions: (64,)\n",
      "Image Canal 1 : (64,)\n",
      "Image Canal 2 : (64,)\n",
      "Class labels of 10 examples: [1. 1. 2. 2. 2. 0. 1. 0. 2. 2.]\n",
      "94\n"
     ]
    }
   ],
   "source": [
    "\n",
    "from iotools import loader_factory\n",
    "\n",
    "# for train\n",
    "#train_loader=loader_factory('H5Dataset', batch_size=BATCH_SIZE, shuffle=True, num_workers=0, data_dirs=DATA_DIRS, flavour='100k.h5', start_fraction=0.0, use_fraction=0.2)\n",
    "# for test\n",
    "#valid_loader=loader_factory('H5Dataset', batch_size=BATCH_SIZE, shuffle=True, num_workers=0, data_dirs=DATA_DIRS, flavour='100k.h5', start_fraction=0.1, use_fraction=0.1)\n",
    "# for validation\n",
    "#test_loader=loader_factory('H5Dataset', batch_size=BATCH_SIZE, shuffle=True, num_workers=0, data_dirs=DATA_DIRS, flavour='100k.h5', start_fraction=0.1, use_fraction=0.1)\n",
    "\n",
    "# for train\n",
    "train_loader=loader_factory('H5Dataset', batch_size=BATCH_SIZE, shuffle=True, num_workers=0, data_dirs=DATA_DIRS, flavour='100k.h5', start_fraction=0.0, use_fraction=0.02)\n",
    "# for test\n",
    "valid_loader=loader_factory('H5Dataset', batch_size=BATCH_SIZE, shuffle=True, num_workers=0, data_dirs=DATA_DIRS, flavour='100k.h5', start_fraction=0.1, use_fraction=0.01)\n",
    "# for validation\n",
    "test_loader=loader_factory('H5Dataset', batch_size=BATCH_SIZE, shuffle=True, num_workers=0, data_dirs=DATA_DIRS, flavour='100k.h5', start_fraction=0.1, use_fraction=0.01)\n",
    "\n",
    "\n",
    "# Checking the dataset\n",
    "for images, labels, C1, C2 in train_loader:  \n",
    "    print('Image batch dimensions:', images.shape)\n",
    "    print('Image label dimensions:', labels.shape)\n",
    "    print('Image Canal 1 :', C1.shape)\n",
    "    print('Image Canal 2 :', C2.shape)\n",
    "    print('Class labels of 10 examples:', labels[:10])\n",
    "    break\n",
    "print(len(train_loader))\n",
    "\n",
    "\n"
   ]
  },
  {
   "cell_type": "code",
   "execution_count": 6,
   "metadata": {},
   "outputs": [],
   "source": [
    "# Decorative progress bar\n",
    "def progress_bar(count, total, message=''):\n",
    "    \"\"\"\n",
    "    Args: count .... int/float, current progress counter\n",
    "          total .... int/float, total counter\n",
    "          message .. string, appended after the progress bar\n",
    "    \"\"\"\n",
    "    from IPython.display import HTML, display,clear_output\n",
    "    return HTML(\"\"\"\n",
    "        <progress \n",
    "            value='{count}'\n",
    "            max='{total}',\n",
    "            style='width: 30%'\n",
    "        >\n",
    "            {count}\n",
    "        </progress> {frac}% {message}\n",
    "    \"\"\".format(count=count,total=total,frac=int(float(count)/float(total)*100.),message=message))\n"
   ]
  },
  {
   "cell_type": "code",
   "execution_count": 7,
   "metadata": {},
   "outputs": [],
   "source": [
    "# Dumb class to organize output csv file\n",
    "class CSVData:\n",
    "\n",
    "    def __init__(self,fout):\n",
    "        self.name  = fout\n",
    "        self._fout = None\n",
    "        self._str  = None\n",
    "        self._dict = {}\n",
    "\n",
    "    def record(self, keys, vals):\n",
    "        for i, key in enumerate(keys):\n",
    "            self._dict[key] = vals[i]\n",
    "\n",
    "    def write(self):\n",
    "        if self._str is None:\n",
    "            self._fout=open(self.name,'w')\n",
    "            self._str=''\n",
    "            for i,key in enumerate(self._dict.keys()):\n",
    "                if i:\n",
    "                    self._fout.write(',')\n",
    "                    self._str += ','\n",
    "                self._fout.write(key)\n",
    "                self._str+='{:f}'\n",
    "            self._fout.write('\\n')\n",
    "            self._str+='\\n'\n",
    "\n",
    "        self._fout.write(self._str.format(*(self._dict.values())))\n",
    "\n",
    "    def flush(self):\n",
    "        if self._fout: self._fout.flush()\n",
    "\n",
    "    def close(self):\n",
    "        if self._str is not None:\n",
    "            self._fout.close()\n"
   ]
  },
  {
   "cell_type": "code",
   "execution_count": 8,
   "metadata": {},
   "outputs": [],
   "source": [
    "\n",
    "# Alta de archivos LOGS a utilizar\n",
    "train_log, test_log, valid_log = CSVData(DATA_LOGS + LOG_FILE_TRAIN), CSVData(DATA_LOGS + LOG_FILE_TEST) , CSVData(DATA_LOGS + LOG_FILE_VAL)\n",
    "\n",
    "\n"
   ]
  },
  {
   "cell_type": "markdown",
   "metadata": {},
   "source": [
    "# Definicion del modelo VGG 16"
   ]
  },
  {
   "cell_type": "code",
   "execution_count": 9,
   "metadata": {},
   "outputs": [],
   "source": [
    "##########################\n",
    "### MODEL\n",
    "##########################\n",
    "\n",
    "\n",
    "class VGG16(torch.nn.Module):\n",
    "\n",
    "    def __init__(self, num_classes):\n",
    "        super().__init__()\n",
    "        \n",
    "        self.block_1 = torch.nn.Sequential(\n",
    "                torch.nn.Conv2d(in_channels=2,\n",
    "                                out_channels=64,\n",
    "                                kernel_size=(3, 3),\n",
    "                                stride=(1, 1),\n",
    "                                padding=1),\n",
    "                torch.nn.ReLU(),\n",
    "                torch.nn.Conv2d(in_channels=64,\n",
    "                                out_channels=64,\n",
    "                                kernel_size=(3, 3),\n",
    "                                stride=(1, 1),\n",
    "                                padding=1),\n",
    "                torch.nn.ReLU(),\n",
    "                torch.nn.MaxPool2d(kernel_size=(2, 2),\n",
    "                                   stride=(2, 2))\n",
    "        )\n",
    "        \n",
    "        self.block_2 = torch.nn.Sequential(\n",
    "                torch.nn.Conv2d(in_channels=64,\n",
    "                                out_channels=128,\n",
    "                                kernel_size=(3, 3),\n",
    "                                stride=(1, 1),\n",
    "                                padding=1),\n",
    "                torch.nn.ReLU(),\n",
    "                torch.nn.Conv2d(in_channels=128,\n",
    "                                out_channels=128,\n",
    "                                kernel_size=(3, 3),\n",
    "                                stride=(1, 1),\n",
    "                                padding=1),\n",
    "                torch.nn.ReLU(),\n",
    "                torch.nn.MaxPool2d(kernel_size=(2, 2),\n",
    "                                   stride=(2, 2))\n",
    "        )\n",
    "        \n",
    "        self.block_3 = torch.nn.Sequential(        \n",
    "                torch.nn.Conv2d(in_channels=128,\n",
    "                                out_channels=256,\n",
    "                                kernel_size=(3, 3),\n",
    "                                stride=(1, 1),\n",
    "                                padding=1),\n",
    "                torch.nn.ReLU(),\n",
    "                torch.nn.Conv2d(in_channels=256,\n",
    "                                out_channels=256,\n",
    "                                kernel_size=(3, 3),\n",
    "                                stride=(1, 1),\n",
    "                                padding=1),\n",
    "                torch.nn.ReLU(),        \n",
    "                torch.nn.Conv2d(in_channels=256,\n",
    "                                out_channels=256,\n",
    "                                kernel_size=(3, 3),\n",
    "                                stride=(1, 1),\n",
    "                                padding=1),\n",
    "                torch.nn.ReLU(),\n",
    "                torch.nn.MaxPool2d(kernel_size=(2, 2),\n",
    "                                   stride=(2, 2))\n",
    "        )\n",
    "        \n",
    "          \n",
    "        self.block_4 = torch.nn.Sequential(   \n",
    "                torch.nn.Conv2d(in_channels=256,\n",
    "                                out_channels=512,\n",
    "                                kernel_size=(3, 3),\n",
    "                                stride=(1, 1),\n",
    "                                padding=1),\n",
    "                torch.nn.ReLU(),        \n",
    "                torch.nn.Conv2d(in_channels=512,\n",
    "                                out_channels=512,\n",
    "                                kernel_size=(3, 3),\n",
    "                                stride=(1, 1),\n",
    "                                padding=1),\n",
    "                torch.nn.ReLU(),        \n",
    "                torch.nn.Conv2d(in_channels=512,\n",
    "                                out_channels=512,\n",
    "                                kernel_size=(3, 3),\n",
    "                                stride=(1, 1),\n",
    "                                padding=1),\n",
    "                torch.nn.ReLU(),            \n",
    "                torch.nn.MaxPool2d(kernel_size=(2, 2),\n",
    "                                   stride=(2, 2))\n",
    "        )\n",
    "        \n",
    "        self.block_5 = torch.nn.Sequential(\n",
    "                torch.nn.Conv2d(in_channels=512,\n",
    "                                out_channels=512,\n",
    "                                kernel_size=(3, 3),\n",
    "                                stride=(1, 1),\n",
    "                                padding=1),\n",
    "                torch.nn.ReLU(),            \n",
    "                torch.nn.Conv2d(in_channels=512,\n",
    "                                out_channels=512,\n",
    "                                kernel_size=(3, 3),\n",
    "                                stride=(1, 1),\n",
    "                                padding=1),\n",
    "                torch.nn.ReLU(),            \n",
    "                torch.nn.Conv2d(in_channels=512,\n",
    "                                out_channels=512,\n",
    "                                kernel_size=(3, 3),\n",
    "                                stride=(1, 1),\n",
    "                                padding=1),\n",
    "                torch.nn.ReLU(),    \n",
    "                torch.nn.MaxPool2d(kernel_size=(2, 2),\n",
    "                                   stride=(2, 2))             \n",
    "        )\n",
    "            \n",
    "        height, width = 3, 3 ## you may want to change that depending on the input image size\n",
    "        self.classifier = torch.nn.Sequential(\n",
    "            torch.nn.Linear(512*height*width, 4096),\n",
    "            torch.nn.ReLU(True),\n",
    "            torch.nn.Dropout(p=0.5),\n",
    "            torch.nn.Linear(4096, 4096),\n",
    "            torch.nn.ReLU(True),\n",
    "            torch.nn.Linear(4096, num_classes),\n",
    "        )\n",
    "            \n",
    "        for m in self.modules():\n",
    "            if isinstance(m, torch.torch.nn.Conv2d) or isinstance(m, torch.torch.nn.Linear):\n",
    "                torch.nn.init.kaiming_uniform_(m.weight, mode='fan_in', nonlinearity='relu')\n",
    "                if m.bias is not None:\n",
    "                    m.bias.detach().zero_()\n",
    "                    \n",
    "        self.avgpool = torch.nn.AdaptiveAvgPool2d((height, width))\n",
    "        \n",
    "        \n",
    "    def forward(self, x):\n",
    "\n",
    "        x = self.block_1(x)\n",
    "        x = self.block_2(x)\n",
    "        x = self.block_3(x)\n",
    "        x = self.block_4(x)\n",
    "        x = self.block_5(x)\n",
    "        x = self.avgpool(x)\n",
    "#        x = x.view(x.size(0), -1) # flatten\n",
    "        x = x.reshape(x.size(0), -1) # flatten\n",
    "        \n",
    "        logits = self.classifier(x)\n",
    "        #probas = F.softmax(logits, dim=1)\n",
    "\n",
    "        return logits "
   ]
  },
  {
   "cell_type": "markdown",
   "metadata": {},
   "source": [
    "# Funcion para  entrenar el modelo"
   ]
  },
  {
   "cell_type": "markdown",
   "metadata": {},
   "source": [
    "# Entrenando el modelo"
   ]
  },
  {
   "cell_type": "code",
   "execution_count": 10,
   "metadata": {},
   "outputs": [],
   "source": [
    "model = VGG16(num_classes=3)\n",
    "\n",
    "\n",
    "model = model.to(DEVICE)\n",
    "\n",
    "# checar la definicion de la funcion de perdida, loss function\n",
    "optimizer = torch.optim.Adam(model.parameters(), lr=0.001)\n",
    "#optimizer = torch.optim.SGD(model.parameters(), momentum=0.9, lr=0.01)\n",
    "scheduler = torch.optim.lr_scheduler.ReduceLROnPlateau(optimizer,\n",
    "                                                       factor=0.1,\n",
    "                                                       mode='max',\n",
    "                                                       verbose=True)\n"
   ]
  },
  {
   "cell_type": "code",
   "execution_count": 11,
   "metadata": {},
   "outputs": [],
   "source": [
    "def compute_accuracy(model, data_loader, device):\n",
    "\n",
    "    with torch.no_grad():\n",
    "\n",
    "        correct_pred, num_examples = 0, 0\n",
    "\n",
    "        for i,data in enumerate(data_loader):\n",
    "            # Data and label\n",
    "            features = torch.FloatTensor(data[0])\n",
    "            targets = torch.LongTensor(data[1])\n",
    "                                  \n",
    "            features = features.permute(0,3,1,2)\n",
    "            features = features.to(DEVICE)\n",
    "            targets = targets.to(DEVICE)\n",
    "\n",
    "            logits = model(features)\n",
    "            _, predicted_labels = torch.max(logits, 1)\n",
    "\n",
    "            num_examples += targets.size(0)\n",
    "            correct_pred += (predicted_labels == targets).sum()\n",
    "        \n",
    "    return correct_pred.float()/num_examples * 100\n"
   ]
  },
  {
   "cell_type": "code",
   "execution_count": 12,
   "metadata": {},
   "outputs": [
    {
     "name": "stdout",
     "output_type": "stream",
     "text": [
      "train period\n",
      "Epoch 0 Starting @ 2022-05-10 10:46:15\n"
     ]
    },
    {
     "data": {
      "text/html": [
       "\n",
       "        <progress \n",
       "            value='94'\n",
       "            max='94',\n",
       "            style='width: 30%'\n",
       "        >\n",
       "            94\n",
       "        </progress> 100% ... Iteration 94 ... Epoch 1.00 ... Loss 4.634 ... Accuracy 4.634\n",
       "    "
      ],
      "text/plain": [
       "<IPython.core.display.HTML object>"
      ]
     },
     "metadata": {},
     "output_type": "display_data"
    },
    {
     "name": "stdout",
     "output_type": "stream",
     "text": [
      "Epoch: 1.010638/15.000000 | Batch: 0000/0094 | Loss: 139.7810\n",
      "Epoch 1 Starting @ 2022-05-10 10:54:38\n"
     ]
    },
    {
     "data": {
      "text/html": [
       "\n",
       "        <progress \n",
       "            value='94'\n",
       "            max='94',\n",
       "            style='width: 30%'\n",
       "        >\n",
       "            94\n",
       "        </progress> 100% ... Iteration 188 ... Epoch 2.00 ... Loss 365.082 ... Accuracy 365.082\n",
       "    "
      ],
      "text/plain": [
       "<IPython.core.display.HTML object>"
      ]
     },
     "metadata": {},
     "output_type": "display_data"
    },
    {
     "name": "stdout",
     "output_type": "stream",
     "text": [
      "Epoch: 2.010638/15.000000 | Batch: 0000/0094 | Loss: 5.8598\n",
      "Epoch 2 Starting @ 2022-05-10 11:02:01\n"
     ]
    },
    {
     "data": {
      "text/html": [
       "\n",
       "        <progress \n",
       "            value='94'\n",
       "            max='94',\n",
       "            style='width: 30%'\n",
       "        >\n",
       "            94\n",
       "        </progress> 100% ... Iteration 282 ... Epoch 3.00 ... Loss 1.310 ... Accuracy 1.310\n",
       "    "
      ],
      "text/plain": [
       "<IPython.core.display.HTML object>"
      ]
     },
     "metadata": {},
     "output_type": "display_data"
    },
    {
     "name": "stdout",
     "output_type": "stream",
     "text": [
      "Epoch: 3.010638/15.000000 | Batch: 0000/0094 | Loss: 262.5753\n"
     ]
    }
   ],
   "source": [
    "print('train period')\n",
    "\n",
    "# Define train period. \"epoch\" = N image consumption where N is the total number of train samples.\n",
    "#TRAIN_EPOCH=NUM_EPOCHS\n",
    "TRAIN_EPOCH=3.0\n",
    "# Set the network to training mode\n",
    "#blob.net.train()\n",
    "\n",
    "logging_interval=100\n",
    "model.train()\n",
    "epoch=0\n",
    "iteration=0\n",
    "start_time = time.time()\n",
    "minibatch_loss_list, train_acc_list, valid_acc_list = [], [], []\n",
    "\n",
    "while int(epoch+0.5) < TRAIN_EPOCH:\n",
    "    print('Epoch',int(epoch+0.5),'Starting @',time.strftime(\"%Y-%m-%d %H:%M:%S\", time.localtime()))\n",
    "    # Create a progress bar for this epoch\n",
    "    ### from utils import progress_bar\n",
    "    progress = display(progress_bar(0,len(train_loader)),display_id=True)\n",
    "    # Loop over data samples and into the network forward function    \n",
    "    for i,data in enumerate(train_loader):\n",
    "        # Data and label\n",
    "        features = torch.FloatTensor(data[0])\n",
    "        targets = torch.LongTensor(data[1])\n",
    "                                  \n",
    "        features = features.permute(0,3,1,2)\n",
    "        features = features.to(DEVICE)\n",
    "        targets = targets.to(DEVICE)\n",
    "        \n",
    "        # ## FORWARD AND BACK PROP\n",
    "        #print('features train ')\n",
    "        #print(features.shape)\n",
    "        logits = model(features)\n",
    "        \n",
    "        \n",
    "#        print('logits.shape')\n",
    "#        print(logits.shape)\n",
    "#        print('targets - labels')\n",
    "#        print(targets.shape)\n",
    " \n",
    "    ##  Verificar si esta FUNCION de perdida es la mas apropiada o si\n",
    "        ##  le hace falta algun otro paramtro,  por ejemplo creo que falta definir el optimizador ADAM\n",
    "        ##  Verificar en https://stackoverflow.com/questions/33962226/common-causes-of-nans-during-training-of-neural-networks\n",
    "        ##  https://sisyphus.gitbook.io/project/deep-learning-basics/deep-learning-debug/common-causes-of-nans-during-training\n",
    "        \n",
    "        \n",
    "        loss = torch.nn.functional.cross_entropy(logits, targets)\n",
    "        #print ('loss: ', loss)\n",
    "\n",
    "        loss.backward()\n",
    "        #print(loss)\n",
    "        #print(len(train_loader))\n",
    "\n",
    "        # ## UPDATE MODEL PARAMETERS\n",
    "        optimizer.step()        \n",
    "        #print(i)\n",
    "    \n",
    "        # Epoch update\n",
    "        epoch += 1./len(train_loader)\n",
    "        iteration += 1\n",
    "        \n",
    "        # ## LOGGING\n",
    "        \n",
    "        minibatch_loss_list.append(loss.item())\n",
    "        if not i % logging_interval:\n",
    "           print(f'Epoch: {epoch+1:03f}/{NUM_EPOCHS:03f} '\n",
    "                 f'| Batch: {i:04d}/{len(train_loader):04d} '\n",
    "                 f'| Loss: {loss:.4f}')\n",
    "        \n",
    "        # more rarely, run validation\n",
    "#        if (i+1)%100 == 0:\n",
    "        if (i+1)%100 == 0:\n",
    "            with torch.no_grad():\n",
    "                model.eval()\n",
    "                #test_data = next(iter(test_loader))\n",
    "                #data,label = test_data[0:2]\n",
    "##                -----\n",
    "##                res = forward(model,False)\n",
    "##                -----\n",
    "\n",
    "####  Se adiciona\n",
    "#              data = torch.FloatTensor(test_data[0])\n",
    "#                label = torch.LongTensor(test_data[1])\n",
    "#                                  \n",
    "#                data = data.permute(0,3,1,2)\n",
    "#                data = data.to(DEVICE)\n",
    "#                label = label.to(DEVICE)\n",
    "\n",
    "#                print('features test ')\n",
    "#                print(data.shape)\n",
    "#                res = model(data)\n",
    "#                print('features res ')\n",
    "#                print(res.shape)\n",
    "#                print(res)\n",
    "    \n",
    "####  termina adiciona\n",
    "    \n",
    "                train_acc = compute_accuracy(model, train_loader, device=DEVICE)\n",
    "                valid_acc = compute_accuracy(model, valid_loader, device=DEVICE)\n",
    "                print(f'Epoch: {epoch+1:03f}/{NUM_EPOCHS:03f} '\n",
    "                      f'| Train: {train_acc :.2f}% '\n",
    "                      f'| Validation: {valid_acc :.2f}%')\n",
    "                train_acc_list.append(train_acc.item())\n",
    "                valid_acc_list.append(valid_acc.item())\n",
    "        \n",
    "    \n",
    "                test_log.record(['iteration','epoch','accuracy','loss'],[iteration,epoch,train_acc,loss])\n",
    "                test_log.write()\n",
    "                \n",
    "                elapsed = (time.time() - start_time)/60\n",
    "                print(f'Time elapsed: {elapsed:.2f} min')\n",
    "        \n",
    "        if epoch >= TRAIN_EPOCH:  \n",
    "            break\n",
    "        \n",
    "        #\n",
    "        # Log/Report\n",
    "        #\n",
    "        # Record the current performance on train set\n",
    "        #train_log.record(['iteration','epoch','accuracy','loss'],[iteration,epoch,res['accuracy'],res['loss']])\n",
    "        #train_log.write()    \n",
    "#\n",
    "    #epoch += 1\n",
    "#\n",
    "    message = '... Iteration %d ... Epoch %1.2f ... Loss %1.3f ... Accuracy %1.3f' % (iteration,epoch,loss,loss)\n",
    "    progress.update(progress_bar((i+1),len(train_loader),message))\n",
    "\n",
    "test_log.close()\n",
    "train_log.close()"
   ]
  },
  {
   "cell_type": "code",
   "execution_count": 13,
   "metadata": {},
   "outputs": [
    {
     "data": {
      "image/png": "[encoded data removed]",
      "text/plain": [
       "<Figure size 432x288 with 2 Axes>"
      ]
     },
     "metadata": {
      "needs_background": "light"
     },
     "output_type": "display_data"
    },
    {
     "data": {
      "image/png": "[encoded data removed]",
      "text/plain": [
       "<Figure size 432x288 with 1 Axes>"
      ]
     },
     "metadata": {
      "needs_background": "light"
     },
     "output_type": "display_data"
    }
   ],
   "source": [
    "plot_training_loss(minibatch_loss_list=minibatch_loss_list,\n",
    "                   num_epochs=NUM_EPOCHS,\n",
    "                   iter_per_epoch=len(train_loader),\n",
    "                   results_dir=None,\n",
    "                   averaging_iterations=200)\n",
    "plt.show()\n",
    "\n",
    "plot_accuracy(train_acc_list=train_acc_list,\n",
    "              valid_acc_list=valid_acc_list,\n",
    "              results_dir=None)\n",
    "plt.ylim([60, 100])\n",
    "plt.show()"
   ]
  },
  {
   "cell_type": "code",
   "execution_count": 14,
   "metadata": {},
   "outputs": [
    {
     "data": {
      "image/png": "[encoded data removed]",
      "text/plain": [
       "<Figure size 432x288 with 1 Axes>"
      ]
     },
     "metadata": {
      "needs_background": "light"
     },
     "output_type": "display_data"
    }
   ],
   "source": [
    "\n",
    "plot_accuracy(train_acc_list=train_acc_list,\n",
    "              valid_acc_list=valid_acc_list,\n",
    "              results_dir=None)\n",
    "#plt.ylim([60, 100])\n",
    "plt.show()"
   ]
  },
  {
   "cell_type": "markdown",
   "metadata": {},
   "source": [
    "## Performance Analysis  \n",
    "Beyond looking at the performance of the network, we can analyze how the network is performing for each classification target. Let's first obtain a high-statistics analysis output by running the network on all test samples."
   ]
  },
  {
   "cell_type": "code",
   "execution_count": 57,
   "metadata": {},
   "outputs": [],
   "source": [
    "def inference(model,data_loader):\n",
    "    label,prediction,accuracy=[],[],[]\n",
    "    label_l,prediction_l,accuracy_l=[],[],[]\n",
    "    # set the network to test (non-train) mode\n",
    "    model.eval()\n",
    "    # create the result holder\n",
    "    index,label,prediction = [],[],[]\n",
    "    for i,datac in enumerate(data_loader):\n",
    "#        data, label = data[0:2]\n",
    "##\n",
    "  \n",
    "        data = torch.FloatTensor(datac[0])\n",
    "        label = torch.LongTensor(datac[1])\n",
    "                                  \n",
    "        data = data.permute(0,3,1,2)\n",
    "        data = data.to(DEVICE)\n",
    "        label = label.to(DEVICE)\n",
    "        \n",
    "        # ## FORWARD AND BACK PROP\n",
    "        #print('features train ')\n",
    "        #print(features.shape)\n",
    "        prediction = model(data)\n",
    "        \n",
    "        if label is not None:\n",
    "            label = torch.as_tensor(label).type(torch.LongTensor).cpu()#[torch.as_tensor(l).cuda() for l in blob.label]\n",
    "            label.requires_grad = False\n",
    "            loss = torch.nn.functional.cross_entropy(prediction,label)\n",
    "        loss = loss        \n",
    "        \n",
    "        prediction = torch.argmax(prediction,dim=-1)\n",
    "        accuracy   = (prediction == label).sum().item() / float(prediction.nelement())        \n",
    "        prediction = prediction.cpu().detach().numpy()\n",
    "\n",
    "#        res = model(forward(blob,True)                   \n",
    "                    \n",
    "        accuracy_l.append(accuracy)\n",
    "        prediction_l.append(prediction)\n",
    "        label_l.append(label)\n",
    "    # report accuracy\n",
    "    accuracy_l   = np.array(accuracy_l,dtype=np.float32)    \n",
    "    label_l      = np.hstack(label_l)\n",
    "    \n",
    "    prediction_l = np.hstack(prediction_l)\n",
    "    \n",
    "    return accuracy_l, label_l, prediction_l"
   ]
  },
  {
   "cell_type": "code",
   "execution_count": 58,
   "metadata": {},
   "outputs": [],
   "source": [
    "# Plot a confusion matrix\n",
    "def plot_confusion_matrix(label,prediction,class_names):\n",
    "    \"\"\"\n",
    "    Args: label ... 1D array of true label value, the length = sample size\n",
    "          prediction ... 1D array of predictions, the length = sample size\n",
    "          class_names ... 1D array of string label for classification targets, the length = number of categories\n",
    "    \"\"\"\n",
    "    import matplotlib.pyplot as plt\n",
    "    fig, ax = plt.subplots(figsize=(12,8),facecolor='w')\n",
    "    num_labels = len(class_names)\n",
    "    max_value  = np.max([np.max(np.unique(label)),np.max(np.unique(label))])\n",
    "    assert max_value < num_labels\n",
    "    mat,_,_,im = ax.hist2d(label,prediction,\n",
    "                           bins=(num_labels,num_labels),\n",
    "                           range=((-0.5,num_labels-0.5),(-0.5,num_labels-0.5)),cmap=plt.cm.Blues)\n",
    "    plt.colorbar(im, ax=ax)\n",
    "    ax.set_xticks(np.arange(num_labels))\n",
    "    ax.set_yticks(np.arange(num_labels))\n",
    "    ax.set_xticklabels(class_names,fontsize=16)\n",
    "    ax.set_yticklabels(class_names,fontsize=16)\n",
    "    plt.setp(ax.get_xticklabels(), rotation=45, ha=\"right\",\n",
    "             rotation_mode=\"anchor\")\n",
    "    plt.setp(ax.get_yticklabels(), rotation=45, ha=\"right\",\n",
    "             rotation_mode=\"anchor\")\n",
    "    ax.set_xlabel('Prediction',fontsize=20)\n",
    "    ax.set_ylabel('True Label',fontsize=20)\n",
    "    for i in range(mat.shape[0]):\n",
    "        for j in range(mat.shape[1]):\n",
    "            ax.text(i,j, str(mat[i, j]),\n",
    "                    ha=\"center\", va=\"center\", fontsize=16,\n",
    "                    color=\"white\" if mat[i,j] > (0.5*mat.max()) else \"black\")\n",
    "    fig.tight_layout()\n",
    "    plt.show()"
   ]
  },
  {
   "cell_type": "code",
   "execution_count": 59,
   "metadata": {},
   "outputs": [
    {
     "name": "stdout",
     "output_type": "stream",
     "text": [
      "plot_confusion_matrix\n",
      "Accuracy mean 0.33344415 std 0.07636152\n"
     ]
    },
    {
     "data": {
      "image/png": "[encoded data removed]",
      "text/plain": [
       "<Figure size 864x576 with 2 Axes>"
      ]
     },
     "metadata": {},
     "output_type": "display_data"
    }
   ],
   "source": [
    "print('plot_confusion_matrix')\n",
    "\n",
    "#from utils import plot_confusion_matrix\n",
    "accuracy,label,prediction = inference(model,test_loader)\n",
    "print('Accuracy mean',accuracy.mean(),'std',accuracy.std())\n",
    "plot_confusion_matrix(label,prediction,['gamma','electron','muon'])"
   ]
  },
  {
   "cell_type": "code",
   "execution_count": null,
   "metadata": {},
   "outputs": [],
   "source": []
  }
 ],
 "metadata": {
  "kernelspec": {
   "display_name": "Python 3",
   "language": "python",
   "name": "python3"
  },
  "language_info": {
   "codemirror_mode": {
    "name": "ipython",
    "version": 3
   },
   "file_extension": ".py",
   "mimetype": "text/x-python",
   "name": "python",
   "nbconvert_exporter": "python",
   "pygments_lexer": "ipython3",
   "version": "3.8.3"
  }
 },
 "nbformat": 4,
 "nbformat_minor": 5
}
